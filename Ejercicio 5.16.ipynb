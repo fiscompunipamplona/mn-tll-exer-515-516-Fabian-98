{
 "cells": [
  {
   "cell_type": "markdown",
   "metadata": {},
   "source": [
    "Incluso cuando podemos encontrar el valor de $\\textbf{f}$$\\textbf{(x)}$ para cualquier valor de x, la diferencia directa aún puede ser más precisa que la diferencia central para $\\textbf{h}$ suficientemente grande. ¿Para que valores de $\\textbf{h}$ se producirá un error de aproximación  en la diferencia directa de la ecuación (5.87) más pequeño que en la diferencia central de la ecuación (5.95)?"
   ]
  },
  {
   "cell_type": "code",
   "execution_count": 1,
   "metadata": {},
   "outputs": [
    {
     "name": "stdout",
     "output_type": "stream",
     "text": [
      "valor de h = 1\n",
      "valor de h = 2\n",
      "valor de h = 3\n",
      "valor de h = 4\n",
      "valor de h = 5\n",
      "valor de h = 6\n",
      "valor de h = 7\n",
      "valor de h = 8\n",
      "valor de h = 9\n",
      "valor de h = 10\n",
      "valor de h = 11\n",
      "valor de h = 12\n",
      "valor de h = 13\n"
     ]
    }
   ],
   "source": [
    "h=0\n",
    "edf=1\n",
    "edc=0\n",
    "\n",
    "while edf>=edc:\n",
    "    h+= 1\n",
    "    edf=h/2\n",
    "    edc= h**2/24\n",
    "    print('valor de h =',h)"
   ]
  }
 ],
 "metadata": {
  "kernelspec": {
   "display_name": "Python 3",
   "language": "python",
   "name": "python3"
  },
  "language_info": {
   "codemirror_mode": {
    "name": "ipython",
    "version": 3
   },
   "file_extension": ".py",
   "mimetype": "text/x-python",
   "name": "python",
   "nbconvert_exporter": "python",
   "pygments_lexer": "ipython3",
   "version": "3.7.7"
  }
 },
 "nbformat": 4,
 "nbformat_minor": 4
}
